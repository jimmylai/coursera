{
 "metadata": {
  "name": "recommendation_system"
 },
 "nbformat": 3,
 "nbformat_minor": 0,
 "worksheets": [
  {
   "cells": [
    {
     "cell_type": "code",
     "collapsed": false,
     "input": [
      "rests = []\n",
      "with open('restaurants.txt') as fp:\n",
      "    while True:\n",
      "        title = fp.readline()\n",
      "        if title == '':\n",
      "            break\n",
      "        title = title.decode('utf8')\n",
      "        rating = fp.readline().decode('utf8')\n",
      "        price = fp.readline().decode('utf8')\n",
      "        cuisine = fp.readline().decode('utf8')\n",
      "        rests.append({'title': title, 'rating': rating, 'price': price, 'cuisine': cuisine})\n",
      "\n",
      "print len(rests)\n"
     ],
     "language": "python",
     "metadata": {},
     "outputs": [
      {
       "output_type": "stream",
       "stream": "stdout",
       "text": [
        "21\n"
       ]
      }
     ],
     "prompt_number": 5
    }
   ],
   "metadata": {}
  }
 ]
}