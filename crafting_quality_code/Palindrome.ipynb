{
 "metadata": {
  "name": "Palindrome"
 },
 "nbformat": 3,
 "nbformat_minor": 0,
 "worksheets": [
  {
   "cells": [
    {
     "cell_type": "code",
     "collapsed": false,
     "input": [
      "def reverse(string):\n",
      "    ''' (str) -> string\n",
      "    \n",
      "    >>> reverse('abc')\n",
      "    'cba'\n",
      "    '''\n",
      "    return string[::-1]\n",
      "    \n",
      "def is_palindrome(string, version=1):\n",
      "    ''' (str, int) -> boolean\n",
      "\n",
      "    >>> is_palindrome('racecar')\n",
      "    True\n",
      "\n",
      "    >>> is_palindrome('hello')\n",
      "    False\n",
      "    '''\n",
      "    if version == 1:\n",
      "        return string == reverse(string)\n",
      "    elif version == 2:\n",
      "        n = len(string)\n",
      "        return string[:n // 2] == reverse(string[n - n // 2:])\n",
      "    elif version == 3:\n",
      "        i, j = 0, len(string) - 1\n",
      "        is_pal = True\n",
      "        while i < j:\n",
      "            if string[i] != string[j]:\n",
      "                is_pal = False\n",
      "                break\n",
      "            i += 1\n",
      "            j -= 1\n",
      "        return is_pal\n",
      "\n",
      "print is_palindrome('hello', 3)\n",
      "print is_palindrome('racecar', 3)\n",
      "print is_palindrome('appa', 3)"
     ],
     "language": "python",
     "metadata": {},
     "outputs": [
      {
       "output_type": "stream",
       "stream": "stdout",
       "text": [
        "False\n",
        "True\n",
        "True\n"
       ]
      }
     ],
     "prompt_number": 28
    }
   ],
   "metadata": {}
  }
 ]
}